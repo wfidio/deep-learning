{
 "cells": [
  {
   "cell_type": "code",
   "execution_count": 1,
   "metadata": {
    "collapsed": true
   },
   "outputs": [],
   "source": [
    "import tensorflow as tf\n",
    "import numpy as np\n",
    "import matplotlib.pyplot as pl"
   ]
  },
  {
   "cell_type": "code",
   "execution_count": 2,
   "metadata": {
    "collapsed": true
   },
   "outputs": [],
   "source": [
    "learning_rate = 0.01\n",
    "tranning_epochs = 1000\n",
    "display_step = 50"
   ]
  },
  {
   "cell_type": "code",
   "execution_count": 3,
   "metadata": {
    "collapsed": true
   },
   "outputs": [],
   "source": [
    "trainX = np.asarray([1.0,2.0,3.0,4.0,5.0,6.0])\n",
    "trainY = np.asarray([5.0,6.0,7.0,10.0,11.0,11.5])\n",
    "n_samples = trainX.shape[0]"
   ]
  },
  {
   "cell_type": "code",
   "execution_count": 4,
   "metadata": {
    "collapsed": true
   },
   "outputs": [],
   "source": [
    "X = tf.placeholder(\"float\")\n",
    "Y = tf.placeholder(\"float\")\n",
    "\n",
    "W = tf.Variable(np.random.randn(),name=\"weight\")\n",
    "b = tf.Variable(np.random.randn(),name=\"bias\")"
   ]
  },
  {
   "cell_type": "code",
   "execution_count": 5,
   "metadata": {},
   "outputs": [],
   "source": [
    "pred = tf.add(tf.multiply(X,W),b)"
   ]
  },
  {
   "cell_type": "code",
   "execution_count": 6,
   "metadata": {},
   "outputs": [],
   "source": [
    "cost = tf.reduce_sum(tf.pow(pred-Y,2))/(2*n_samples)\n",
    "optimizer = tf.train.GradientDescentOptimizer(learning_rate).minimize(cost)"
   ]
  },
  {
   "cell_type": "code",
   "execution_count": 7,
   "metadata": {
    "collapsed": true
   },
   "outputs": [],
   "source": [
    "init = tf.global_variables_initializer()"
   ]
  },
  {
   "cell_type": "code",
   "execution_count": 8,
   "metadata": {},
   "outputs": [
    {
     "name": "stdout",
     "output_type": "stream",
     "text": [
      "Epoch: 0050 cost= 1.660951138 W= 2.34888 b= -0.599174\n",
      "Epoch: 0100 cost= 1.406000257 W= 2.26925 b= -0.249658\n",
      "Epoch: 0150 cost= 1.194037080 W= 2.19624 b= 0.069082\n",
      "Epoch: 0200 cost= 1.017729998 W= 2.12964 b= 0.359833\n",
      "Epoch: 0250 cost= 0.871085644 W= 2.06889 b= 0.625054\n",
      "Epoch: 0300 cost= 0.749118626 W= 2.01347 b= 0.866986\n",
      "Epoch: 0350 cost= 0.647680521 W= 1.96292 b= 1.08767\n",
      "Epoch: 0400 cost= 0.563319504 W= 1.91681 b= 1.28898\n",
      "Epoch: 0450 cost= 0.493165255 W= 1.87475 b= 1.47262\n",
      "Epoch: 0500 cost= 0.434827894 W= 1.83638 b= 1.64013\n",
      "Epoch: 0550 cost= 0.386319965 W= 1.80138 b= 1.79293\n",
      "Epoch: 0600 cost= 0.345988631 W= 1.76945 b= 1.93231\n",
      "Epoch: 0650 cost= 0.312457949 W= 1.74033 b= 2.05945\n",
      "Epoch: 0700 cost= 0.284583628 W= 1.71377 b= 2.17543\n",
      "Epoch: 0750 cost= 0.261412829 W= 1.68953 b= 2.28122\n",
      "Epoch: 0800 cost= 0.242154300 W= 1.66743 b= 2.37773\n",
      "Epoch: 0850 cost= 0.226149440 W= 1.64726 b= 2.46576\n",
      "Epoch: 0900 cost= 0.212850630 W= 1.62887 b= 2.54606\n",
      "Epoch: 0950 cost= 0.201800659 W= 1.61209 b= 2.61931\n",
      "Epoch: 1000 cost= 0.192621365 W= 1.59679 b= 2.68613\n",
      "Optimization Finished\n",
      "Trainning cost 0.192621 W= 1.59679 b= 2.68613\n"
     ]
    },
    {
     "data": {
      "image/png": "[encoded data removed]",
      "text/plain": [
       "<matplotlib.figure.Figure at 0x109b0ff10>"
      ]
     },
     "metadata": {},
     "output_type": "display_data"
    }
   ],
   "source": [
    "with tf.Session() as sess:\n",
    "    sess.run(init)\n",
    "    for epoch in range(tranning_epochs):\n",
    "        for (x,y) in zip(trainX,trainY):\n",
    "            sess.run(optimizer,feed_dict={X:x,Y:y})\n",
    "        if (epoch+1) % display_step == 0:\n",
    "            c = sess.run(cost,feed_dict={X:trainX,Y:trainY})\n",
    "            print \"Epoch:\",\"%04d\"%(epoch+1),\"cost=\",\"{:.9f}\".format(c),\"W=\",sess.run(W),\"b=\",sess.run(b)\n",
    "    print \"Optimization Finished\"\n",
    "    trainning_cost = sess.run(cost,feed_dict={X:trainX,Y:trainY})\n",
    "    print \"Trainning cost\",trainning_cost,\"W=\",sess.run(W),\"b=\",sess.run(b)\n",
    "    \n",
    "    pl.plot(trainX,trainY,'ro',label='Original')\n",
    "    pl.plot(trainX,sess.run(W)*trainX+sess.run(b),label='Fitted line')\n",
    "    pl.legend()\n",
    "    pl.show()"
   ]
  }
 ],
 "metadata": {
  "kernelspec": {
   "display_name": "Python 2",
   "language": "python",
   "name": "python2"
  },
  "language_info": {
   "codemirror_mode": {
    "name": "ipython",
    "version": 2
   },
   "file_extension": ".py",
   "mimetype": "text/x-python",
   "name": "python",
   "nbconvert_exporter": "python",
   "pygments_lexer": "ipython2",
   "version": "2.7.13"
  }
 },
 "nbformat": 4,
 "nbformat_minor": 2
}
